{
 "cells": [
  {
   "cell_type": "code",
   "execution_count": 2,
   "metadata": {},
   "outputs": [
    {
     "name": "stdout",
     "output_type": "stream",
     "text": [
      "Sleeping 1 second....\n",
      "Done sleeping....\n",
      "Finished in 1.0 second(s)\n"
     ]
    }
   ],
   "source": [
    "import time\n",
    "\n",
    "start = time.perf_counter()\n",
    "\n",
    "def do_something():\n",
    "    print('Sleeping 1 second....')\n",
    "    time.sleep(1)\n",
    "    print('Done sleeping....')\n",
    "\n",
    "do_something()\n",
    "finish = time.perf_counter()\n",
    "\n",
    "print(f'Finished in {round(finish-start,2)} second(s)')\n"
   ]
  },
  {
   "cell_type": "code",
   "execution_count": 3,
   "metadata": {},
   "outputs": [
    {
     "name": "stdout",
     "output_type": "stream",
     "text": [
      "Sleeping 1 second....\n",
      "Done sleeping....\n",
      "Sleeping 1 second....\n",
      "Done sleeping....\n",
      "Finished in 2.02 second(s)\n"
     ]
    }
   ],
   "source": [
    "import time\n",
    "\n",
    "start = time.perf_counter()\n",
    "\n",
    "def do_something():\n",
    "    print('Sleeping 1 second....')\n",
    "    time.sleep(1)\n",
    "    print('Done sleeping....')\n",
    "\n",
    "do_something()\n",
    "do_something()  #this 2nd time called function runs parllely when 1st called function in still sleep\n",
    "\n",
    "finish = time.perf_counter()\n",
    "\n",
    "print(f'Finished in {round(finish-start,2)} second(s)')\n"
   ]
  },
  {
   "cell_type": "code",
   "execution_count": 5,
   "metadata": {},
   "outputs": [
    {
     "name": "stdout",
     "output_type": "stream",
     "text": [
      "Sleeping 1 second....Sleeping 1 second....\n",
      "Finished in 0.03 second(s)\n",
      "\n",
      "Done sleeping....Done sleeping....\n",
      "\n"
     ]
    }
   ],
   "source": [
    "import time\n",
    "import threading\n",
    "\n",
    "start = time.perf_counter()\n",
    "\n",
    "def do_something():\n",
    "    print('Sleeping 1 second....')\n",
    "    time.sleep(1)\n",
    "    print('Done sleeping....')\n",
    "\n",
    "t1 = threading.Thread(target=do_something)  ##we just need to pass function not execute, so we did not give do_something() parenththesis\n",
    "t2 = threading.Thread(target=do_something)\n",
    "\n",
    "## we need to start each thread explicitly to run the thread using start\n",
    "t1.start()\n",
    "t2.start()\n",
    "\n",
    "finish = time.perf_counter()\n",
    "\n",
    "print(f'Finished in {round(finish-start,2)} second(s)')\n"
   ]
  },
  {
   "cell_type": "markdown",
   "metadata": {},
   "source": [
    "when threads started and still in sleep, python executed the finish statement while threads is still in sleep \n",
    "\n",
    "using join methos make sures that, bottom executes after the thread run succesfully"
   ]
  },
  {
   "cell_type": "code",
   "execution_count": 6,
   "metadata": {},
   "outputs": [
    {
     "name": "stdout",
     "output_type": "stream",
     "text": [
      "Sleeping 1 second....\n",
      "Sleeping 1 second....\n",
      "Done sleeping....\n",
      "Done sleeping....\n",
      "Finished in 1.12 second(s)\n"
     ]
    }
   ],
   "source": [
    "import time\n",
    "import threading\n",
    "\n",
    "start = time.perf_counter()\n",
    "\n",
    "def do_something():\n",
    "    print('Sleeping 1 second....')\n",
    "    time.sleep(1)\n",
    "    print('Done sleeping....')\n",
    "\n",
    "t1 = threading.Thread(target=do_something)  \n",
    "t2 = threading.Thread(target=do_something)\n",
    "\n",
    "## we need to start each thread explicitly to run the thread using start\n",
    "t1.start()\n",
    "t2.start()\n",
    "\n",
    "t1.join()\n",
    "t2.join()\n",
    "\n",
    "finish = time.perf_counter()\n",
    "\n",
    "print(f'Finished in {round(finish-start,2)} second(s)')"
   ]
  },
  {
   "cell_type": "markdown",
   "metadata": {},
   "source": [
    "we can run multiple threads parallely in small still in 1 second using loops"
   ]
  },
  {
   "cell_type": "code",
   "execution_count": 9,
   "metadata": {},
   "outputs": [
    {
     "name": "stdout",
     "output_type": "stream",
     "text": [
      "Sleeping 1 second....Sleeping 1 second....\n",
      "\n",
      "Sleeping 1 second....\n",
      "Sleeping 1 second....\n",
      "Sleeping 1 second....\n",
      "Sleeping 1 second....Sleeping 1 second....\n",
      "\n",
      "Sleeping 1 second....\n",
      "Sleeping 1 second....\n",
      "Sleeping 1 second....\n",
      "Done sleeping....Done sleeping....Done sleeping....\n",
      "\n",
      "\n",
      "Done sleeping....\n",
      "Done sleeping....\n",
      "Done sleeping....\n",
      "Done sleeping....Done sleeping....Done sleeping....Done sleeping....\n",
      "\n",
      "\n",
      "\n",
      "Finished in 1.06 second(s)\n"
     ]
    }
   ],
   "source": [
    "import time\n",
    "import threading\n",
    "\n",
    "tart = time.perf_counter()\n",
    "\n",
    "def do_something():\n",
    "    print('Sleeping 1 second....')\n",
    "    time.sleep(1)\n",
    "    print('Done sleeping....')\n",
    "\n",
    "threads=[]\n",
    "\n",
    "for _ in range(10):\n",
    "    t = threading.Thread(target=do_something)\n",
    "    t.start()\n",
    "    threads.append(t)\n",
    "\n",
    "for thread in threads:\n",
    "    thread.join()\n",
    "\n",
    "finish = time.perf_counter()\n",
    "\n",
    "print(f'Finished in {round(finish-start,2)} second(s)')"
   ]
  },
  {
   "cell_type": "markdown",
   "metadata": {},
   "source": [
    "passing some arguments"
   ]
  },
  {
   "cell_type": "code",
   "execution_count": 11,
   "metadata": {},
   "outputs": [
    {
     "name": "stdout",
     "output_type": "stream",
     "text": [
      "Sleeping 1.5 second(s)....\n",
      "Sleeping 1.5 second(s)....\n",
      "Sleeping 1.5 second(s)....\n",
      "Sleeping 1.5 second(s)....\n",
      "Sleeping 1.5 second(s)....\n",
      "Sleeping 1.5 second(s)....\n",
      "Sleeping 1.5 second(s)....\n",
      "Sleeping 1.5 second(s)....\n",
      "Sleeping 1.5 second(s)....\n",
      "Sleeping 1.5 second(s)....\n",
      "Done sleeping....\n",
      "Done sleeping....\n",
      "Done sleeping....\n",
      "Done sleeping....\n",
      "Done sleeping....\n",
      "Done sleeping....\n",
      "Done sleeping....\n",
      "Done sleeping....\n",
      "Done sleeping....\n",
      "Done sleeping....\n",
      "Finished in 1.7 second(s)\n"
     ]
    }
   ],
   "source": [
    "import time\n",
    "import threading\n",
    "\n",
    "start = time.perf_counter()\n",
    "\n",
    "def do_something(seconds):\n",
    "    print(f'Sleeping {seconds} second(s)....')\n",
    "    time.sleep(seconds)\n",
    "    print('Done sleeping....')\n",
    "\n",
    "threads=[]\n",
    "\n",
    "for _ in range(10):\n",
    "    t = threading.Thread(target=do_something, args=[1.5])\n",
    "    t.start()\n",
    "    threads.append(t)\n",
    "\n",
    "for thread in threads:\n",
    "    thread.join()\n",
    "\n",
    "\n",
    "finish = time.perf_counter()\n",
    "\n",
    "print(f'Finished in {round(finish-start,2)} second(s)')"
   ]
  },
  {
   "cell_type": "markdown",
   "metadata": {},
   "source": [
    "now automating threading using thread pool  availabe from python 3.2\n",
    "\n",
    "But it is in Concurrent Module, now we dont need threading module"
   ]
  },
  {
   "cell_type": "code",
   "execution_count": null,
   "metadata": {},
   "outputs": [],
   "source": [
    "import time\n",
    "import concurrent.futures\n",
    "\n",
    "start = time.perf_counter()\n",
    "\n",
    "def do_something(seconds):\n",
    "    print(f'Sleeping {seconds} second(s)....')\n",
    "    time.sleep(seconds)\n",
    "    print('Done sleeping....')\n",
    "\n",
    "with concurrent.futures.ThreadPoolExecutor() as executor:\n",
    "    f1 = executor.submit(do_something,1)\n",
    "\n",
    "threads=[]\n",
    "\n",
    "for _ in range(10):\n",
    "    t = threading.Thread(target=do_something, args=[1.5])\n",
    "    t.start()\n",
    "    threads.append(t)\n",
    "\n",
    "for thread in threads:\n",
    "    thread.join()\n",
    "\n",
    "\n",
    "finish = time.perf_counter()\n",
    "\n",
    "print(f'Finished in {round(finish-start,2)} second(s)')"
   ]
  }
 ],
 "metadata": {
  "interpreter": {
   "hash": "30ab42e4247609bb41cb82835a38c67d95b97a033a04521c62cef72182acd8a4"
  },
  "kernelspec": {
   "display_name": "Python 3.10.1 64-bit",
   "language": "python",
   "name": "python3"
  },
  "language_info": {
   "codemirror_mode": {
    "name": "ipython",
    "version": 3
   },
   "file_extension": ".py",
   "mimetype": "text/x-python",
   "name": "python",
   "nbconvert_exporter": "python",
   "pygments_lexer": "ipython3",
   "version": "3.10.1"
  },
  "orig_nbformat": 4
 },
 "nbformat": 4,
 "nbformat_minor": 2
}
